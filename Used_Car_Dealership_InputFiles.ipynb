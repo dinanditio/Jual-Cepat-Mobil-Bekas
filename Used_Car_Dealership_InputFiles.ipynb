{
  "nbformat": 4,
  "nbformat_minor": 0,
  "metadata": {
    "colab": {
      "provenance": []
    },
    "kernelspec": {
      "name": "python3",
      "display_name": "Python 3"
    },
    "language_info": {
      "name": "python"
    }
  },
  "cells": [
    {
      "cell_type": "code",
      "execution_count": 3,
      "metadata": {
        "colab": {
          "base_uri": "https://localhost:8080/"
        },
        "id": "Me3PMthDrUot",
        "outputId": "02ce6de6-dc31-4931-a795-d5466481af09"
      },
      "outputs": [
        {
          "output_type": "stream",
          "name": "stdout",
          "text": [
            "Collecting faker\n",
            "  Downloading Faker-25.3.0-py3-none-any.whl (1.8 MB)\n",
            "\u001b[?25l     \u001b[90m━━━━━━━━━━━━━━━━━━━━━━━━━━━━━━━━━━━━━━━━\u001b[0m \u001b[32m0.0/1.8 MB\u001b[0m \u001b[31m?\u001b[0m eta \u001b[36m-:--:--\u001b[0m\r\u001b[2K     \u001b[91m━━━━━━\u001b[0m\u001b[90m╺\u001b[0m\u001b[90m━━━━━━━━━━━━━━━━━━━━━━━━━━━━━━━━━\u001b[0m \u001b[32m0.3/1.8 MB\u001b[0m \u001b[31m8.5 MB/s\u001b[0m eta \u001b[36m0:00:01\u001b[0m\r\u001b[2K     \u001b[91m━━━━━━━━━━━━━━━━━━━━━━━━━━━━━━━━━━━\u001b[0m\u001b[91m╸\u001b[0m\u001b[90m━━━━\u001b[0m \u001b[32m1.6/1.8 MB\u001b[0m \u001b[31m23.0 MB/s\u001b[0m eta \u001b[36m0:00:01\u001b[0m\r\u001b[2K     \u001b[90m━━━━━━━━━━━━━━━━━━━━━━━━━━━━━━━━━━━━━━━━\u001b[0m \u001b[32m1.8/1.8 MB\u001b[0m \u001b[31m20.1 MB/s\u001b[0m eta \u001b[36m0:00:00\u001b[0m\n",
            "\u001b[?25hRequirement already satisfied: python-dateutil>=2.4 in /usr/local/lib/python3.10/dist-packages (from faker) (2.8.2)\n",
            "Requirement already satisfied: six>=1.5 in /usr/local/lib/python3.10/dist-packages (from python-dateutil>=2.4->faker) (1.16.0)\n",
            "Installing collected packages: faker\n",
            "Successfully installed faker-25.3.0\n"
          ]
        }
      ],
      "source": [
        "!pip install faker\n",
        "\n",
        "from faker import Faker\n",
        "import random\n",
        "import pandas as pd\n",
        "from datetime import datetime, timedelta\n",
        "\n",
        "fake = Faker('id_ID')  # Indonesian locale"
      ]
    },
    {
      "cell_type": "code",
      "source": [
        "# Settings\n",
        "num_users = 100\n",
        "num_cars = 200\n",
        "num_ads = 150\n",
        "num_bids = 300\n",
        "num_sales = 120"
      ],
      "metadata": {
        "id": "exrKpOWPrntO"
      },
      "execution_count": 4,
      "outputs": []
    },
    {
      "cell_type": "code",
      "source": [
        "# Generate data for Cities\n",
        "cities_data = [\n",
        "    {'city_id': 1, 'city_name': 'Jakarta Utara', 'latitude': -6.1384, 'longitude': 106.8641},\n",
        "    {'city_id': 2, 'city_name': 'Jakarta Pusat', 'latitude': -6.1865, 'longitude': 106.8341},\n",
        "    {'city_id': 3, 'city_name': 'Jakarta Selatan', 'latitude': -6.2701, 'longitude': 106.8077},\n",
        "    {'city_id': 4, 'city_name': 'Jakarta Timur', 'latitude': -6.2250, 'longitude': 106.9004},\n",
        "    {'city_id': 5, 'city_name': 'Surabaya', 'latitude': -7.2575, 'longitude': 112.7521},\n",
        "    {'city_id': 6, 'city_name': 'Bandung', 'latitude': -6.9175, 'longitude': 107.6191},\n",
        "    {'city_id': 7, 'city_name': 'Medan', 'latitude': 3.5952, 'longitude': 98.6722},\n",
        "    {'city_id': 8, 'city_name': 'Bekasi', 'latitude': -6.2383, 'longitude': 106.9756},\n",
        "    {'city_id': 9, 'city_name': 'Malang', 'latitude': -7.9666, 'longitude': 112.6326},\n",
        "    {'city_id': 10, 'city_name': 'Balikpapan', 'latitude': -1.2450, 'longitude': 116.8612},\n",
        "    {'city_id': 11, 'city_name': 'Samarinda', 'latitude': -0.5021, 'longitude': 117.1536},\n",
        "    {'city_id': 12, 'city_name': 'Bukittinggi', 'latitude': -0.3039, 'longitude': 100.3815},\n",
        "    {'city_id': 13, 'city_name': 'Padang', 'latitude': -0.9470, 'longitude': 100.4172},\n",
        "    {'city_id': 14, 'city_name': 'Bojonegoro', 'latitude': -7.1502, 'longitude': 111.8818},\n",
        "    {'city_id': 15, 'city_name': 'Lamongan', 'latitude': -7.1285, 'longitude': 112.3135},\n",
        "    {'city_id': 16, 'city_name': 'Denpasar', 'latitude': -8.6705, 'longitude': 115.2126},\n",
        "    {'city_id': 17, 'city_name': 'Makassar', 'latitude': -5.1477, 'longitude': 119.4327},\n",
        "    {'city_id': 18, 'city_name': 'Jombang', 'latitude': -7.5459, 'longitude': 112.2331},\n",
        "    {'city_id': 19, 'city_name': 'Magelang', 'latitude': -7.4813, 'longitude': 110.2133},\n",
        "    {'city_id': 20, 'city_name': 'Bogor', 'latitude': -6.5971, 'longitude': 106.8060}\n",
        "]\n",
        "cities_df = pd.DataFrame(cities_data)"
      ],
      "metadata": {
        "id": "C6NjztOpr6s-"
      },
      "execution_count": 5,
      "outputs": []
    },
    {
      "cell_type": "code",
      "source": [
        "# Generate data for Users\n",
        "users_data = [{'user_id': i,\n",
        "               'name': fake.name(),\n",
        "               'contact_number': fake.numerify(text='08##########'),\n",
        "               'city_id': random.choice(cities_df['city_id'].tolist())}\n",
        "              for i in range(1, num_users + 1)]\n",
        "users_df = pd.DataFrame(users_data)"
      ],
      "metadata": {
        "id": "n9Wj9-xJsDGK"
      },
      "execution_count": 6,
      "outputs": []
    },
    {
      "cell_type": "code",
      "source": [
        "# Car brands and models\n",
        "car_brands = {\n",
        "    'Toyota': ['Yaris', 'Calya', 'Fortuner', 'Avanza', 'Camry'],\n",
        "    'Honda': ['Civic', 'CR-V', 'Jazz', 'Accord', 'BR-V'],\n",
        "    'Nissan': ['Juke', 'X-Trail', 'March', 'Navara', 'Serena'],\n",
        "    'Mazda': ['CX-5', 'MX-5', 'Mazda2', 'Mazda3', 'Mazda6'],\n",
        "    'Daihatsu': ['Ayla', 'Terios', 'Sigra', 'Luxio', 'Sirion'],\n",
        "    'Lexus': ['IS', 'ES', 'GS', 'LS', 'RX', 'NX'],\n",
        "    'Mitsubishi': ['Pajero', 'Lancer', 'Outlander', 'Triton', 'Mirage'],\n",
        "    'Suzuki': ['Swift', 'Ertiga', 'Vitara', 'Ciaz', 'Baleno'],\n",
        "    'Isuzu': ['D-Max', 'MU-X', 'Elf', 'Traga'],\n",
        "    'Mercedes-Benz': ['C-Class', 'E-Class', 'S-Class', 'GLE', 'GLS'],\n",
        "    'BMW': ['3 Series', '5 Series', '7 Series', 'X5', 'X6'],\n",
        "    'Audi': ['A4', 'A6', 'A8', 'Q5', 'Q7'],\n",
        "    'Chevrolet': ['Cruze', 'Malibu', 'Colorado', 'Traverse'],\n",
        "    'Ford': ['Mustang', 'Explorer', 'F-150', 'Escape', 'Focus']\n",
        "}\n",
        "body_types = ['SUV', 'Sedan', 'Hatchback', 'MPV', 'Crossover', 'Coupe', 'Coupe SUV', 'Wagon']"
      ],
      "metadata": {
        "id": "r7vMEGCUsHpg"
      },
      "execution_count": 7,
      "outputs": []
    },
    {
      "cell_type": "code",
      "source": [
        "# Generate data for Cars\n",
        "cars_data = [{'car_id': i,\n",
        "              'brand': random.choice(list(car_brands.keys())),\n",
        "              'model': random.choice(car_brands[random.choice(list(car_brands.keys()))]),\n",
        "              'body_type': random.choice(body_types),\n",
        "              'manufacture_year': random.randint(2009, 2024),\n",
        "              'transmission_type': random.choice(['manual', 'automatic']),\n",
        "              'color': fake.color_name(),\n",
        "              'mileage': random.randint(0, 200000),\n",
        "              'list_price': random.randint(70, 400) * 1000000}\n",
        "             for i in range(1, num_cars + 1)]\n",
        "cars_df = pd.DataFrame(cars_data)"
      ],
      "metadata": {
        "id": "Bfl-HGxTsP5h"
      },
      "execution_count": 8,
      "outputs": []
    },
    {
      "cell_type": "code",
      "source": [
        "# Generate data for Advertisements\n",
        "ads_data = [{'ad_id': i,\n",
        "             'user_id': random.choice(users_df['user_id'].tolist()),\n",
        "             'title': f\"For Sale: {random.choice(['Almost new', 'Well maintained'])} {cars_df.iloc[i-1]['brand']} {cars_df.iloc[i-1]['model']}\",\n",
        "             'car_id': i,\n",
        "             'description': fake.text(),\n",
        "             'price': cars_df.iloc[i-1]['list_price'],\n",
        "             'posted_date': fake.date_between(start_date='-9y', end_date='today'),\n",
        "             'allow_bargaining': random.choice([True, False])}\n",
        "            for i in range(1, num_ads + 1)]\n",
        "ads_df = pd.DataFrame(ads_data)"
      ],
      "metadata": {
        "id": "Om2Tg7glsUGD"
      },
      "execution_count": 9,
      "outputs": []
    },
    {
      "cell_type": "code",
      "source": [
        "# Generate data for Bids\n",
        "bids_data = [{'bid_id': i,\n",
        "              'ad_id': random.choice(ads_df['ad_id'].tolist()),\n",
        "              'user_id': random.choice(users_df['user_id'].tolist()),\n",
        "              'bid_price': random.randint(50, 400) * 1000000,\n",
        "              'bid_date': fake.date_between(start_date='-9y', end_date='today')}\n",
        "             for i in range(1, num_bids + 1)]\n",
        "bids_df = pd.DataFrame(bids_data)"
      ],
      "metadata": {
        "id": "VGyAU2K6sXPr"
      },
      "execution_count": 10,
      "outputs": []
    },
    {
      "cell_type": "code",
      "source": [
        "# Generate data for Sales\n",
        "sales_data = [{'sale_id': i,\n",
        "               'ad_id': ads_df.iloc[i]['ad_id'],\n",
        "               'buyer_id': random.choice(users_df['user_id'].tolist()),\n",
        "               'seller_id': ads_df.iloc[i]['user_id'],\n",
        "               'final_price': ads_df.iloc[i]['price'],\n",
        "               'sale_date': ads_df.iloc[i]['posted_date'] + timedelta(days=random.randint(1, 30))}\n",
        "              for i in range(num_sales)]\n",
        "sales_df = pd.DataFrame(sales_data)"
      ],
      "metadata": {
        "id": "lwVp5w6Wsaug"
      },
      "execution_count": 11,
      "outputs": []
    }
  ]
}